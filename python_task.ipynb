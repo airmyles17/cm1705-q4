{
 "cells": [
  {
   "cell_type": "code",
   "execution_count": 14,
   "id": "2401abd2-e037-429c-83b2-cf40ec349a55",
   "metadata": {},
   "outputs": [],
   "source": [
    "def hello(name):\n",
    "    print(\"Hello\", name)"
   ]
  },
  {
   "cell_type": "code",
   "execution_count": 18,
   "id": "98b047a8-5326-4d73-96c8-f06bf96b16f1",
   "metadata": {},
   "outputs": [
    {
     "name": "stdin",
     "output_type": "stream",
     "text": [
      "WHAT IS YOUR NAME? >> Steven Myles\n"
     ]
    },
    {
     "name": "stdout",
     "output_type": "stream",
     "text": [
      "Hello Steven Myles\n"
     ]
    }
   ],
   "source": [
    "name = input(\"WHAT IS YOUR NAME? >>\")\n",
    "hello(name)"
   ]
  },
  {
   "cell_type": "code",
   "execution_count": null,
   "id": "c0324476-e8da-499a-b64f-03ad7612f8f0",
   "metadata": {},
   "outputs": [],
   "source": []
  }
 ],
 "metadata": {
  "kernelspec": {
   "display_name": "Python 3 (ipykernel)",
   "language": "python",
   "name": "python3"
  },
  "language_info": {
   "codemirror_mode": {
    "name": "ipython",
    "version": 3
   },
   "file_extension": ".py",
   "mimetype": "text/x-python",
   "name": "python",
   "nbconvert_exporter": "python",
   "pygments_lexer": "ipython3",
   "version": "3.12.4"
  }
 },
 "nbformat": 4,
 "nbformat_minor": 5
}
